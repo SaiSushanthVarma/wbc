{
 "cells": [
  {
   "cell_type": "code",
   "execution_count": 1,
   "metadata": {},
   "outputs": [],
   "source": [
    "from __future__ import absolute_import, division, print_function, unicode_literals\n",
    "\n",
    "import tensorflow as tf\n",
    "\n",
    "from tensorflow.python.keras import backend as k\n",
    "\n",
    "from tensorflow.keras.models import Sequential\n",
    "\n",
    "from tensorflow.keras.layers import Dense, Conv2D, Flatten, Dropout, MaxPooling2D\n",
    "\n",
    "from tensorflow.keras.preprocessing.image import ImageDataGenerator\n",
    "\n",
    "import os\n",
    "\n",
    "import numpy as np\n",
    "\n",
    "import matplotlib.pyplot as plt\n",
    "\n",
    "import pandas as pd\n",
    "\n",
    "import cv2 as cv\n",
    "\n",
    "import seaborn as sns"
   ]
  },
  {
   "cell_type": "code",
   "execution_count": 2,
   "metadata": {},
   "outputs": [],
   "source": [
    "PATH = os.path.join('E:\\sample')"
   ]
  },
  {
   "cell_type": "code",
   "execution_count": 3,
   "metadata": {},
   "outputs": [],
   "source": [
    "train_dir = os.path.join(PATH, 'Train30')\n",
    "validation_dir = os.path.join(PATH, 'Val30')"
   ]
  },
  {
   "cell_type": "code",
   "execution_count": 1,
   "metadata": {},
   "outputs": [],
   "source": [
    "Train_Set=\"E:\\sample\\Train30\"\n",
    "Val_Set=\"E:\\sample\\Val30\"\n",
    "\n",
    "#Categroized images\n",
    "#4 types of subCategories\n",
    "\n",
    "CATEGORIES=[\"Double\",\"Triple\",\"Trash\"]"
   ]
  },
  {
   "cell_type": "code",
   "execution_count": 5,
   "metadata": {},
   "outputs": [],
   "source": [
    "train_image_generator = ImageDataGenerator(rescale=1./255) # Generator for our training data\n",
    "validation_image_generator = ImageDataGenerator(rescale=1./255) # Generator for our validation data"
   ]
  },
  {
   "cell_type": "code",
   "execution_count": 6,
   "metadata": {},
   "outputs": [],
   "source": [
    "batch_size = 32\n",
    "epochs = 15\n",
    "IMG_HEIGHT = 48\n",
    "IMG_WIDTH = 48"
   ]
  },
  {
   "cell_type": "code",
   "execution_count": 7,
   "metadata": {},
   "outputs": [
    {
     "name": "stdout",
     "output_type": "stream",
     "text": [
      "Found 11531 images belonging to 3 classes.\n"
     ]
    }
   ],
   "source": [
    "train_data_gen = train_image_generator.flow_from_directory(batch_size=batch_size,\n",
    "                                                           directory=train_dir,\n",
    "                                                           shuffle=True,\n",
    "                                                           target_size=(IMG_HEIGHT, IMG_WIDTH),\n",
    "                                                           class_mode='binary')"
   ]
  },
  {
   "cell_type": "code",
   "execution_count": 8,
   "metadata": {},
   "outputs": [
    {
     "name": "stdout",
     "output_type": "stream",
     "text": [
      "Found 2401 images belonging to 3 classes.\n"
     ]
    }
   ],
   "source": [
    "val_data_gen = validation_image_generator.flow_from_directory(batch_size=batch_size,\n",
    "                                                              directory=validation_dir,\n",
    "                                                              target_size=(IMG_HEIGHT, IMG_WIDTH),\n",
    "                                                              class_mode='binary')"
   ]
  },
  {
   "cell_type": "code",
   "execution_count": 9,
   "metadata": {},
   "outputs": [],
   "source": [
    "Train_Data=[]\n",
    "import cv2 as cv\n",
    "for category in CATEGORIES:\n",
    "       \n",
    "        #each cateogry into unique integer\n",
    "        label=CATEGORIES.index(category)\n",
    "        path=os.path.join(Train_Set,category)\n",
    "        \n",
    "        for img_file in os.listdir(path):\n",
    "            img=cv.imread(os.path.join(path,img_file),1) ## 0-for Greyscale ,, 1--for RGB...\n",
    "            #img = tf.image.rgb_to_grayscale(img, name=None)\n",
    "            Train_Data.append([img,label])"
   ]
  },
  {
   "cell_type": "code",
   "execution_count": 10,
   "metadata": {},
   "outputs": [],
   "source": [
    "Test_Data=[]\n",
    "\n",
    "for category in CATEGORIES:\n",
    "       \n",
    "        #each cateogry into unique integer\n",
    "        label=CATEGORIES.index(category)\n",
    "        path=os.path.join(Val_Set,category)\n",
    "        \n",
    "        for img_file in os.listdir(path):\n",
    "            img=cv.imread(os.path.join(path,img_file),1)\n",
    "            #img = tf.image.rgb_to_grayscale(img, name=None)\n",
    "            Test_Data.append([img,label])"
   ]
  },
  {
   "cell_type": "code",
   "execution_count": 11,
   "metadata": {},
   "outputs": [
    {
     "name": "stdout",
     "output_type": "stream",
     "text": [
      "11531\n",
      "2401\n"
     ]
    }
   ],
   "source": [
    "print(len(Train_Data))\n",
    "print(len(Test_Data))"
   ]
  },
  {
   "cell_type": "code",
   "execution_count": 12,
   "metadata": {},
   "outputs": [],
   "source": [
    "import random\n",
    "\n",
    "random.shuffle(Train_Data)\n"
   ]
  },
  {
   "cell_type": "code",
   "execution_count": 13,
   "metadata": {},
   "outputs": [
    {
     "name": "stdout",
     "output_type": "stream",
     "text": [
      "1\n",
      "0\n",
      "1\n",
      "0\n",
      "0\n",
      "2\n",
      "2\n",
      "2\n",
      "0\n",
      "0\n"
     ]
    }
   ],
   "source": [
    "for lbl in Train_Data[:10]:\n",
    "    print(lbl[1])"
   ]
  },
  {
   "cell_type": "code",
   "execution_count": 14,
   "metadata": {},
   "outputs": [
    {
     "data": {
      "text/plain": [
       "(11531, 11531)"
      ]
     },
     "execution_count": 14,
     "metadata": {},
     "output_type": "execute_result"
    }
   ],
   "source": [
    "train_X=[]\n",
    "train_y=[]\n",
    "\n",
    "for features,label in Train_Data:\n",
    "    train_X.append(features)\n",
    "    train_y.append(label)\n",
    "\n",
    "len(train_X),len(train_y)"
   ]
  },
  {
   "cell_type": "code",
   "execution_count": 15,
   "metadata": {},
   "outputs": [
    {
     "data": {
      "text/plain": [
       "(2401, 2401)"
      ]
     },
     "execution_count": 15,
     "metadata": {},
     "output_type": "execute_result"
    }
   ],
   "source": [
    "#lets seprate the feature and target variable\n",
    "test_X=[]\n",
    "test_y=[]\n",
    "\n",
    "for features,label in Test_Data:\n",
    "    test_X.append(features)\n",
    "    test_y.append(label)\n",
    "\n",
    "len(test_X),len(test_y)"
   ]
  },
  {
   "cell_type": "code",
   "execution_count": 16,
   "metadata": {},
   "outputs": [
    {
     "data": {
      "text/plain": [
       "(11531, 48, 48, 3)"
      ]
     },
     "execution_count": 16,
     "metadata": {},
     "output_type": "execute_result"
    }
   ],
   "source": [
    "\n",
    "train_X=np.array(train_X).reshape(-1,48,48,3)\n",
    "train_X=train_X/255.0\n",
    "train_X.shape"
   ]
  },
  {
   "cell_type": "code",
   "execution_count": 17,
   "metadata": {},
   "outputs": [
    {
     "data": {
      "text/plain": [
       "(2401, 48, 48, 3)"
      ]
     },
     "execution_count": 17,
     "metadata": {},
     "output_type": "execute_result"
    }
   ],
   "source": [
    "test_X=np.array(test_X).reshape(-1,48,48,3)\n",
    "test_X=test_X/255.0\n",
    "test_X.shape"
   ]
  },
  {
   "cell_type": "code",
   "execution_count": 18,
   "metadata": {},
   "outputs": [],
   "source": [
    "import pandas as pd\n",
    "import cv2 as cv\n",
    "import numpy as np\n",
    "import matplotlib.pyplot as plt\n",
    "import os\n",
    "import seaborn as sns"
   ]
  },
  {
   "cell_type": "code",
   "execution_count": 19,
   "metadata": {},
   "outputs": [
    {
     "data": {
      "text/plain": [
       "<matplotlib.axes._subplots.AxesSubplot at 0x1b99a31f9e8>"
      ]
     },
     "execution_count": 19,
     "metadata": {},
     "output_type": "execute_result"
    },
    {
     "data": {
      "image/png": "[encoded data removed]",
      "text/plain": [
       "<Figure size 432x288 with 1 Axes>"
      ]
     },
     "metadata": {
      "needs_background": "light"
     },
     "output_type": "display_data"
    }
   ],
   "source": [
    "sns.countplot(train_y,palette='Set3')"
   ]
  },
  {
   "cell_type": "code",
   "execution_count": 20,
   "metadata": {},
   "outputs": [
    {
     "name": "stderr",
     "output_type": "stream",
     "text": [
      "Using TensorFlow backend.\n"
     ]
    },
    {
     "data": {
      "text/plain": [
       "array([[0., 1., 0.],\n",
       "       [1., 0., 0.],\n",
       "       [0., 1., 0.],\n",
       "       ...,\n",
       "       [1., 0., 0.],\n",
       "       [0., 0., 1.],\n",
       "       [0., 0., 1.]], dtype=float32)"
      ]
     },
     "execution_count": 20,
     "metadata": {},
     "output_type": "execute_result"
    }
   ],
   "source": [
    "from keras.utils import to_categorical\n",
    "#train y\n",
    "one_hot_train=to_categorical(train_y)\n",
    "one_hot_train"
   ]
  },
  {
   "cell_type": "code",
   "execution_count": 21,
   "metadata": {},
   "outputs": [
    {
     "data": {
      "text/plain": [
       "array([[1., 0., 0.],\n",
       "       [1., 0., 0.],\n",
       "       [1., 0., 0.],\n",
       "       ...,\n",
       "       [0., 0., 1.],\n",
       "       [0., 0., 1.],\n",
       "       [0., 0., 1.]], dtype=float32)"
      ]
     },
     "execution_count": 21,
     "metadata": {},
     "output_type": "execute_result"
    }
   ],
   "source": [
    "one_hot_test=to_categorical(test_y)\n",
    "one_hot_test"
   ]
  },
  {
   "cell_type": "code",
   "execution_count": 22,
   "metadata": {},
   "outputs": [],
   "source": [
    "from keras.backend import sigmoid\n",
    "def swish(x, beta = 1):\n",
    "    return (x * sigmoid(beta * x))"
   ]
  },
  {
   "cell_type": "code",
   "execution_count": 23,
   "metadata": {},
   "outputs": [
    {
     "name": "stdout",
     "output_type": "stream",
     "text": [
      "WARNING:tensorflow:From C:\\Users\\susha\\Anaconda3\\envs\\tensorflow\\lib\\site-packages\\keras\\backend\\tensorflow_backend.py:74: The name tf.get_default_graph is deprecated. Please use tf.compat.v1.get_default_graph instead.\n",
      "\n"
     ]
    }
   ],
   "source": [
    "from keras.utils.generic_utils import get_custom_objects\n",
    "from keras.layers import Activation\n",
    "get_custom_objects().update({'swish': Activation(swish)})"
   ]
  },
  {
   "cell_type": "code",
   "execution_count": 24,
   "metadata": {},
   "outputs": [],
   "source": [
    "from keras.models import Sequential\n",
    "from keras.layers import Dense, Conv2D, Dropout, MaxPool2D, Flatten,BatchNormalization\n",
    "from keras.applications import vgg16 \n",
    "\n",
    "from keras.preprocessing import image"
   ]
  },
  {
   "cell_type": "code",
   "execution_count": 25,
   "metadata": {},
   "outputs": [
    {
     "name": "stdout",
     "output_type": "stream",
     "text": [
      "WARNING:tensorflow:From C:\\Users\\susha\\Anaconda3\\envs\\tensorflow\\lib\\site-packages\\keras\\backend\\tensorflow_backend.py:517: The name tf.placeholder is deprecated. Please use tf.compat.v1.placeholder instead.\n",
      "\n",
      "WARNING:tensorflow:From C:\\Users\\susha\\Anaconda3\\envs\\tensorflow\\lib\\site-packages\\keras\\backend\\tensorflow_backend.py:4138: The name tf.random_uniform is deprecated. Please use tf.random.uniform instead.\n",
      "\n",
      "WARNING:tensorflow:From C:\\Users\\susha\\Anaconda3\\envs\\tensorflow\\lib\\site-packages\\keras\\backend\\tensorflow_backend.py:3976: The name tf.nn.max_pool is deprecated. Please use tf.nn.max_pool2d instead.\n",
      "\n",
      "WARNING:tensorflow:From C:\\Users\\susha\\Anaconda3\\envs\\tensorflow\\lib\\site-packages\\keras\\backend\\tensorflow_backend.py:133: The name tf.placeholder_with_default is deprecated. Please use tf.compat.v1.placeholder_with_default instead.\n",
      "\n",
      "WARNING:tensorflow:From C:\\Users\\susha\\Anaconda3\\envs\\tensorflow\\lib\\site-packages\\keras\\backend\\tensorflow_backend.py:3445: calling dropout (from tensorflow.python.ops.nn_ops) with keep_prob is deprecated and will be removed in a future version.\n",
      "Instructions for updating:\n",
      "Please use `rate` instead of `keep_prob`. Rate should be set to `rate = 1 - keep_prob`.\n",
      "WARNING:tensorflow:From C:\\Users\\susha\\Anaconda3\\envs\\tensorflow\\lib\\site-packages\\keras\\optimizers.py:790: The name tf.train.Optimizer is deprecated. Please use tf.compat.v1.train.Optimizer instead.\n",
      "\n",
      "WARNING:tensorflow:From C:\\Users\\susha\\Anaconda3\\envs\\tensorflow\\lib\\site-packages\\keras\\backend\\tensorflow_backend.py:3295: The name tf.log is deprecated. Please use tf.math.log instead.\n",
      "\n"
     ]
    }
   ],
   "source": [
    "model = Sequential()\n",
    "model.add(Conv2D(32, (3,3), strides = (1, 1), activation = 'relu', input_shape = (48, 48, 3)))\n",
    "model.add(MaxPool2D(pool_size = (2,2)))\n",
    "##model.add(Dropout(0.1))\n",
    "\n",
    "model.add(Conv2D(64, (3,3), strides = (1, 1), activation = 'relu'))\n",
    "model.add(MaxPool2D(pool_size = (2,2)))\n",
    "##model.add(Dropout(0.1))\n",
    "\n",
    "model.add(Conv2D(128, (3,3), strides = (1,1), activation = 'relu'))\n",
    "model.add(Dropout(0.5))\n",
    "\n",
    "model.add(Flatten())\n",
    "\n",
    "model.add(Dense(1024, activation = 'relu'))\n",
    "#model.add(BatchNormalization())\n",
    "\n",
    "#model.add(Dense(512, activation = 'relu'))\n",
    "model.add(Dropout(0.4))\n",
    "model.add(Dense(3, activation = 'softmax'))\n",
    "\n",
    "model.compile(loss = 'categorical_crossentropy', optimizer = 'adam', metrics = ['accuracy'])"
   ]
  },
  {
   "cell_type": "code",
   "execution_count": 26,
   "metadata": {},
   "outputs": [
    {
     "name": "stdout",
     "output_type": "stream",
     "text": [
      "_________________________________________________________________\n",
      "Layer (type)                 Output Shape              Param #   \n",
      "=================================================================\n",
      "conv2d_1 (Conv2D)            (None, 46, 46, 32)        896       \n",
      "_________________________________________________________________\n",
      "max_pooling2d_1 (MaxPooling2 (None, 23, 23, 32)        0         \n",
      "_________________________________________________________________\n",
      "conv2d_2 (Conv2D)            (None, 21, 21, 64)        18496     \n",
      "_________________________________________________________________\n",
      "max_pooling2d_2 (MaxPooling2 (None, 10, 10, 64)        0         \n",
      "_________________________________________________________________\n",
      "conv2d_3 (Conv2D)            (None, 8, 8, 128)         73856     \n",
      "_________________________________________________________________\n",
      "dropout_1 (Dropout)          (None, 8, 8, 128)         0         \n",
      "_________________________________________________________________\n",
      "flatten_1 (Flatten)          (None, 8192)              0         \n",
      "_________________________________________________________________\n",
      "dense_1 (Dense)              (None, 1024)              8389632   \n",
      "_________________________________________________________________\n",
      "dropout_2 (Dropout)          (None, 1024)              0         \n",
      "_________________________________________________________________\n",
      "dense_2 (Dense)              (None, 3)                 3075      \n",
      "=================================================================\n",
      "Total params: 8,485,955\n",
      "Trainable params: 8,485,955\n",
      "Non-trainable params: 0\n",
      "_________________________________________________________________\n"
     ]
    }
   ],
   "source": [
    "model.summary()"
   ]
  },
  {
   "cell_type": "code",
   "execution_count": 27,
   "metadata": {
    "scrolled": false
   },
   "outputs": [
    {
     "name": "stdout",
     "output_type": "stream",
     "text": [
      "WARNING:tensorflow:From C:\\Users\\susha\\Anaconda3\\envs\\tensorflow\\lib\\site-packages\\tensorflow_core\\python\\ops\\math_grad.py:1424: where (from tensorflow.python.ops.array_ops) is deprecated and will be removed in a future version.\n",
      "Instructions for updating:\n",
      "Use tf.where in 2.0, which has the same broadcast rule as np.where\n",
      "WARNING:tensorflow:From C:\\Users\\susha\\Anaconda3\\envs\\tensorflow\\lib\\site-packages\\keras\\backend\\tensorflow_backend.py:986: The name tf.assign_add is deprecated. Please use tf.compat.v1.assign_add instead.\n",
      "\n",
      "WARNING:tensorflow:From C:\\Users\\susha\\Anaconda3\\envs\\tensorflow\\lib\\site-packages\\keras\\backend\\tensorflow_backend.py:973: The name tf.assign is deprecated. Please use tf.compat.v1.assign instead.\n",
      "\n",
      "WARNING:tensorflow:From C:\\Users\\susha\\Anaconda3\\envs\\tensorflow\\lib\\site-packages\\keras\\backend\\tensorflow_backend.py:2741: The name tf.Session is deprecated. Please use tf.compat.v1.Session instead.\n",
      "\n",
      "Train on 11531 samples, validate on 2401 samples\n",
      "Epoch 1/25\n",
      "WARNING:tensorflow:From C:\\Users\\susha\\Anaconda3\\envs\\tensorflow\\lib\\site-packages\\keras\\backend\\tensorflow_backend.py:174: The name tf.get_default_session is deprecated. Please use tf.compat.v1.get_default_session instead.\n",
      "\n",
      "WARNING:tensorflow:From C:\\Users\\susha\\Anaconda3\\envs\\tensorflow\\lib\\site-packages\\keras\\backend\\tensorflow_backend.py:181: The name tf.ConfigProto is deprecated. Please use tf.compat.v1.ConfigProto instead.\n",
      "\n",
      "WARNING:tensorflow:From C:\\Users\\susha\\Anaconda3\\envs\\tensorflow\\lib\\site-packages\\keras\\backend\\tensorflow_backend.py:190: The name tf.global_variables is deprecated. Please use tf.compat.v1.global_variables instead.\n",
      "\n",
      "WARNING:tensorflow:From C:\\Users\\susha\\Anaconda3\\envs\\tensorflow\\lib\\site-packages\\keras\\backend\\tensorflow_backend.py:199: The name tf.is_variable_initialized is deprecated. Please use tf.compat.v1.is_variable_initialized instead.\n",
      "\n",
      "WARNING:tensorflow:From C:\\Users\\susha\\Anaconda3\\envs\\tensorflow\\lib\\site-packages\\keras\\backend\\tensorflow_backend.py:206: The name tf.variables_initializer is deprecated. Please use tf.compat.v1.variables_initializer instead.\n",
      "\n",
      "11531/11531 [==============================] - 18s 2ms/step - loss: 0.4699 - acc: 0.8028 - val_loss: 0.2896 - val_acc: 0.8875\n",
      "Epoch 2/25\n",
      "11531/11531 [==============================] - 8s 654us/step - loss: 0.3250 - acc: 0.8717 - val_loss: 0.2422 - val_acc: 0.9080\n",
      "Epoch 3/25\n",
      "11531/11531 [==============================] - 8s 660us/step - loss: 0.2972 - acc: 0.8842 - val_loss: 0.2293 - val_acc: 0.9121\n",
      "Epoch 4/25\n",
      "11531/11531 [==============================] - 8s 664us/step - loss: 0.2607 - acc: 0.8979 - val_loss: 0.2071 - val_acc: 0.9221\n",
      "Epoch 5/25\n",
      "11531/11531 [==============================] - 8s 666us/step - loss: 0.2465 - acc: 0.9063 - val_loss: 0.2053 - val_acc: 0.9209\n",
      "Epoch 6/25\n",
      "11531/11531 [==============================] - 8s 663us/step - loss: 0.2265 - acc: 0.9148 - val_loss: 0.2190 - val_acc: 0.9159\n",
      "Epoch 7/25\n",
      "11531/11531 [==============================] - 8s 664us/step - loss: 0.2211 - acc: 0.9146 - val_loss: 0.1866 - val_acc: 0.9304\n",
      "Epoch 8/25\n",
      "11531/11531 [==============================] - 8s 663us/step - loss: 0.2027 - acc: 0.9227 - val_loss: 0.1892 - val_acc: 0.9284\n",
      "Epoch 9/25\n",
      "11531/11531 [==============================] - 8s 664us/step - loss: 0.1940 - acc: 0.9276 - val_loss: 0.1960 - val_acc: 0.9267\n",
      "Epoch 10/25\n",
      "11531/11531 [==============================] - 8s 669us/step - loss: 0.1821 - acc: 0.9311 - val_loss: 0.1937 - val_acc: 0.9292\n",
      "Epoch 11/25\n",
      "11531/11531 [==============================] - 8s 664us/step - loss: 0.1732 - acc: 0.9374 - val_loss: 0.1849 - val_acc: 0.9321\n",
      "Epoch 12/25\n",
      "11531/11531 [==============================] - 8s 695us/step - loss: 0.1636 - acc: 0.9398 - val_loss: 0.1920 - val_acc: 0.9304\n",
      "Epoch 13/25\n",
      "11531/11531 [==============================] - 8s 665us/step - loss: 0.1521 - acc: 0.9421 - val_loss: 0.1609 - val_acc: 0.9404\n",
      "Epoch 14/25\n",
      "11531/11531 [==============================] - 8s 695us/step - loss: 0.1515 - acc: 0.9420 - val_loss: 0.1776 - val_acc: 0.9329\n",
      "Epoch 15/25\n",
      "11531/11531 [==============================] - 8s 664us/step - loss: 0.1434 - acc: 0.9459 - val_loss: 0.1653 - val_acc: 0.9321 1s - loss: 0.1433 - acc: 0 - ETA: 1s - loss: \n",
      "Epoch 16/25\n",
      "11531/11531 [==============================] - 8s 667us/step - loss: 0.1298 - acc: 0.9509 - val_loss: 0.1670 - val_acc: 0.9342\n",
      "Epoch 17/25\n",
      "11531/11531 [==============================] - 8s 664us/step - loss: 0.1279 - acc: 0.9494 - val_loss: 0.1615 - val_acc: 0.9413\n",
      "Epoch 18/25\n",
      "11531/11531 [==============================] - 8s 664us/step - loss: 0.1191 - acc: 0.9546 - val_loss: 0.1695 - val_acc: 0.9363\n",
      "Epoch 19/25\n",
      "11531/11531 [==============================] - 8s 659us/step - loss: 0.1372 - acc: 0.9504 - val_loss: 0.1837 - val_acc: 0.9309c\n",
      "Epoch 20/25\n",
      "11531/11531 [==============================] - 8s 664us/step - loss: 0.1095 - acc: 0.9579 - val_loss: 0.1729 - val_acc: 0.9342ss: 0.1024 - acc: 0.959 - ETA: 3s - loss: 0.1025 - ac - ETA: 2s - loss:  - ETA: 1s \n",
      "Epoch 21/25\n",
      "11531/11531 [==============================] - 8s 661us/step - loss: 0.1050 - acc: 0.9593 - val_loss: 0.1736 - val_acc: 0.9367\n",
      "Epoch 22/25\n",
      "11531/11531 [==============================] - 8s 663us/step - loss: 0.0992 - acc: 0.9629 - val_loss: 0.1987 - val_acc: 0.9309\n",
      "Epoch 23/25\n",
      "11531/11531 [==============================] - 8s 659us/step - loss: 0.0911 - acc: 0.9652 - val_loss: 0.1692 - val_acc: 0.9367\n",
      "Epoch 24/25\n",
      "11531/11531 [==============================] - 8s 663us/step - loss: 0.0894 - acc: 0.9669 - val_loss: 0.1926 - val_acc: 0.9304\n",
      "Epoch 25/25\n",
      "11531/11531 [==============================] - 8s 664us/step - loss: 0.0860 - acc: 0.9666 - val_loss: 0.1941 - val_acc: 0.9363\n"
     ]
    }
   ],
   "source": [
    "hist=model.fit(train_X,one_hot_train,epochs=25,batch_size=32,validation_data=(test_X,one_hot_test))"
   ]
  },
  {
   "cell_type": "code",
   "execution_count": 28,
   "metadata": {},
   "outputs": [
    {
     "data": {
      "image/png": "[encoded data removed]",
      "text/plain": [
       "<Figure size 432x288 with 1 Axes>"
      ]
     },
     "metadata": {
      "needs_background": "light"
     },
     "output_type": "display_data"
    }
   ],
   "source": [
    "#train and validation loss\n",
    "plt.plot(hist.history['loss'])\n",
    "plt.plot(hist.history['val_loss'])\n",
    "plt.title('Model Loss')\n",
    "plt.ylabel('Loss')\n",
    "plt.xlabel('Epoch')\n",
    "plt.legend(['train','Validation'],loc='upper left')\n",
    "plt.show()"
   ]
  },
  {
   "cell_type": "code",
   "execution_count": 29,
   "metadata": {},
   "outputs": [
    {
     "data": {
      "image/png": "[encoded data removed]",
      "text/plain": [
       "<Figure size 432x288 with 1 Axes>"
      ]
     },
     "metadata": {
      "needs_background": "light"
     },
     "output_type": "display_data"
    }
   ],
   "source": [
    "#train and validation accuracy\n",
    "plt.plot(hist.history['acc'])\n",
    "plt.plot(hist.history['val_acc'])\n",
    "plt.title('Model Accuracy')\n",
    "plt.ylabel('Accuracy')\n",
    "plt.xlabel('Epoch')\n",
    "plt.legend(['train','Validation'],loc='upper left')\n",
    "plt.show()"
   ]
  },
  {
   "cell_type": "code",
   "execution_count": 30,
   "metadata": {},
   "outputs": [],
   "source": [
    "y_pred=model.predict_classes(test_X)"
   ]
  },
  {
   "cell_type": "code",
   "execution_count": 31,
   "metadata": {},
   "outputs": [
    {
     "data": {
      "text/plain": [
       "0.9362765514369012"
      ]
     },
     "execution_count": 31,
     "metadata": {},
     "output_type": "execute_result"
    }
   ],
   "source": [
    "#accuracy_score\n",
    "from sklearn.metrics import accuracy_score,confusion_matrix\n",
    "accuracy_score(test_y,y_pred)\n"
   ]
  },
  {
   "cell_type": "code",
   "execution_count": 32,
   "metadata": {
    "scrolled": true
   },
   "outputs": [
    {
     "data": {
      "text/plain": [
       "<matplotlib.axes._subplots.AxesSubplot at 0x1b9a00a8828>"
      ]
     },
     "execution_count": 32,
     "metadata": {},
     "output_type": "execute_result"
    },
    {
     "data": {
      "image/png": "[encoded data removed]",
      "text/plain": [
       "<Figure size 432x288 with 2 Axes>"
      ]
     },
     "metadata": {
      "needs_background": "light"
     },
     "output_type": "display_data"
    }
   ],
   "source": [
    "sns.heatmap(confusion_matrix(test_y,y_pred))"
   ]
  },
  {
   "cell_type": "code",
   "execution_count": 33,
   "metadata": {},
   "outputs": [],
   "source": [
    "def plot_confusion_matrix(cm, classes,\n",
    "                          normalize=False,\n",
    "                          title='Confusion matrix',\n",
    "                          cmap=plt.cm.Blues):\n",
    "  \"\"\"\n",
    "  This function prints and plots the confusion matrix.\n",
    "  Normalization can be applied by setting `normalize=True`.\n",
    "  \"\"\"\n",
    "  if normalize:\n",
    "      cm = cm.astype('float') / cm.sum(axis=1)[:, np.newaxis]\n",
    "      cm = cm * 100\n",
    "      print(\"\\nNormalized confusion matrix\")\n",
    "  else:\n",
    "      print('\\nConfusion matrix, without normalization')\n",
    "  print(cm)\n",
    "  print ()\n",
    "\n",
    "  plt.imshow(cm, interpolation='nearest', cmap=cmap)\n",
    "  plt.title(title)\n",
    "  plt.colorbar()\n",
    "  tick_marks = np.arange(len(classes))\n",
    "  plt.xticks(tick_marks, classes, rotation=45)\n",
    "  plt.yticks(tick_marks, classes)\n",
    "\n",
    "  fmt = '.0f' if normalize else 'd'\n",
    "  thresh = cm.max() / 2.\n",
    "  for i, j in itertools.product(range(cm.shape[0]), range(cm.shape[1])):\n",
    "      plt.text(j, i, format(cm[i, j], fmt),\n",
    "                horizontalalignment=\"center\",\n",
    "                color=\"white\" if cm[i, j] > thresh else \"black\")\n",
    "\n",
    "  plt.tight_layout()\n",
    "  plt.ylabel('True label')\n",
    "  plt.xlabel('Predicted label')\n",
    "  plt.show()\n"
   ]
  },
  {
   "cell_type": "code",
   "execution_count": null,
   "metadata": {},
   "outputs": [],
   "source": []
  },
  {
   "cell_type": "code",
   "execution_count": 34,
   "metadata": {},
   "outputs": [],
   "source": [
    "\n",
    "y_pred=model.predict_classes(test_X)\n",
    "cnf_matrix = confusion_matrix(test_y, y_pred)\n",
    "np.set_printoptions(precision=2) # set NumPy to 2 decimal places"
   ]
  },
  {
   "cell_type": "code",
   "execution_count": 35,
   "metadata": {},
   "outputs": [],
   "source": [
    "import itertools"
   ]
  },
  {
   "cell_type": "code",
   "execution_count": 41,
   "metadata": {},
   "outputs": [
    {
     "name": "stdout",
     "output_type": "stream",
     "text": [
      "\n",
      "Confusion matrix, without normalization\n",
      "[[ 610   65   14]\n",
      " [  44  404    2]\n",
      " [  11   17 1234]]\n",
      "\n"
     ]
    },
    {
     "data": {
      "image/png": "[encoded data removed]",
      "text/plain": [
       "<Figure size 432x288 with 2 Axes>"
      ]
     },
     "metadata": {
      "needs_background": "light"
     },
     "output_type": "display_data"
    }
   ],
   "source": [
    "plt.figure()\n",
    "plot_confusion_matrix(cnf_matrix, classes=[0,1,2])"
   ]
  },
  {
   "cell_type": "markdown",
   "metadata": {
    "scrolled": false
   },
   "source": [
    "plt.figure()\n",
    "plot_confusion_matrix(cnf_matrix, classes=[0,1,2], normalize=True,\n",
    "                      title='Normalized confusion matrix')          #-----------------to excel for comparision "
   ]
  },
  {
   "cell_type": "code",
   "execution_count": 39,
   "metadata": {},
   "outputs": [
    {
     "name": "stdout",
     "output_type": "stream",
     "text": [
      "Triple\n",
      "Triple\n",
      "Triple\n",
      "Triple\n",
      "Triple\n",
      "Triple\n",
      "Triple\n",
      "Triple\n",
      "Triple\n",
      "Triple\n",
      "Triple\n",
      "Triple\n",
      "Triple\n",
      "Triple\n",
      "Triple\n",
      "Triple\n",
      "Triple\n",
      "Triple\n",
      "Triple\n",
      "Triple\n",
      "Triple\n",
      "Triple\n",
      "Triple\n",
      "Triple\n",
      "Triple\n",
      "Triple\n",
      "Triple\n",
      "Triple\n",
      "Triple\n",
      "Triple\n",
      "Triple\n",
      "Triple\n",
      "Triple\n",
      "Triple\n",
      "Triple\n",
      "Triple\n",
      "Triple\n",
      "Triple\n",
      "Triple\n",
      "Triple\n",
      "Triple\n",
      "Triple\n",
      "Triple\n",
      "Triple\n",
      "Triple\n",
      "Triple\n",
      "Triple\n",
      "Triple\n",
      "Triple\n",
      "Triple\n",
      "Triple\n",
      "Triple\n",
      "Triple\n",
      "Triple\n",
      "Triple\n",
      "Triple\n",
      "Triple\n",
      "Triple\n",
      "Triple\n",
      "Triple\n",
      "Triple\n",
      "Triple\n",
      "Triple\n",
      "Triple\n",
      "Triple\n",
      "Triple\n",
      "Triple\n",
      "Triple\n",
      "Triple\n",
      "Triple\n",
      "Triple\n",
      "Triple\n",
      "Triple\n",
      "Triple\n",
      "Triple\n",
      "Triple\n",
      "Triple\n",
      "Triple\n",
      "Triple\n",
      "Triple\n",
      "Triple\n",
      "Triple\n",
      "Triple\n",
      "Triple\n",
      "Triple\n",
      "Triple\n",
      "Triple\n",
      "Triple\n",
      "Triple\n",
      "Triple\n",
      "Triple\n",
      "Triple\n",
      "Triple\n",
      "Triple\n",
      "Triple\n",
      "Triple\n",
      "Triple\n",
      "Triple\n",
      "Triple\n",
      "Triple\n",
      "Triple\n",
      "Triple\n",
      "Triple\n",
      "Triple\n",
      "Triple\n",
      "Triple\n",
      "Triple\n",
      "Triple\n",
      "Triple\n",
      "Triple\n",
      "Triple\n",
      "Triple\n",
      "Triple\n",
      "Triple\n",
      "Triple\n",
      "Triple\n",
      "Triple\n",
      "Triple\n",
      "Triple\n",
      "Triple\n",
      "Triple\n",
      "Triple\n",
      "Triple\n",
      "Triple\n",
      "Triple\n",
      "Triple\n",
      "Triple\n",
      "Triple\n",
      "Triple\n",
      "Triple\n",
      "Triple\n",
      "Triple\n",
      "Triple\n",
      "Triple\n",
      "Triple\n",
      "Triple\n",
      "Triple\n",
      "Triple\n",
      "Triple\n",
      "Triple\n",
      "Triple\n",
      "Triple\n",
      "Trash\n",
      "Triple\n",
      "Triple\n",
      "Triple\n",
      "Triple\n",
      "Triple\n",
      "Triple\n",
      "Triple\n",
      "Triple\n",
      "Triple\n",
      "Triple\n",
      "Triple\n",
      "Triple\n",
      "Triple\n",
      "Triple\n",
      "Triple\n",
      "Triple\n",
      "Triple\n",
      "Triple\n",
      "Triple\n",
      "Triple\n",
      "Triple\n",
      "Triple\n",
      "Triple\n",
      "Triple\n",
      "Triple\n",
      "Triple\n",
      "Triple\n",
      "Triple\n",
      "Triple\n",
      "Triple\n",
      "Triple\n",
      "Triple\n",
      "Triple\n",
      "Triple\n",
      "Triple\n",
      "Triple\n",
      "Triple\n",
      "Triple\n",
      "Triple\n",
      "Triple\n",
      "Triple\n",
      "Triple\n",
      "Triple\n",
      "Triple\n",
      "Triple\n",
      "Triple\n",
      "Triple\n",
      "Triple\n",
      "Triple\n",
      "Triple\n",
      "Triple\n",
      "Triple\n",
      "Triple\n",
      "Triple\n",
      "Triple\n",
      "Triple\n",
      "Triple\n",
      "Triple\n",
      "Triple\n",
      "Triple\n",
      "Triple\n",
      "Triple\n",
      "Triple\n",
      "Triple\n",
      "Triple\n",
      "Triple\n",
      "Triple\n",
      "Triple\n",
      "Triple\n",
      "Triple\n",
      "Triple\n",
      "Triple\n",
      "Triple\n",
      "Triple\n",
      "Triple\n",
      "Triple\n",
      "Triple\n",
      "Triple\n",
      "Triple\n",
      "Triple\n",
      "Triple\n",
      "Triple\n",
      "Triple\n",
      "Triple\n",
      "Triple\n",
      "Triple\n",
      "Triple\n",
      "Triple\n",
      "Triple\n",
      "Triple\n",
      "Triple\n",
      "Triple\n",
      "Triple\n",
      "Triple\n",
      "Triple\n",
      "Triple\n",
      "Triple\n",
      "Triple\n",
      "Triple\n",
      "Triple\n",
      "Triple\n",
      "Triple\n",
      "Triple\n",
      "Triple\n",
      "Triple\n",
      "Triple\n",
      "Triple\n",
      "Triple\n",
      "Triple\n",
      "Triple\n",
      "Triple\n",
      "Triple\n",
      "Triple\n",
      "Triple\n",
      "Triple\n",
      "Triple\n",
      "Triple\n",
      "Triple\n",
      "Triple\n",
      "Triple\n",
      "Triple\n",
      "Triple\n",
      "Triple\n",
      "Triple\n",
      "Triple\n",
      "Triple\n",
      "Triple\n",
      "Triple\n",
      "Triple\n",
      "Triple\n",
      "Triple\n",
      "Triple\n",
      "Triple\n",
      "Triple\n",
      "Triple\n",
      "Triple\n",
      "Triple\n",
      "Triple\n",
      "Triple\n",
      "Triple\n",
      "Triple\n",
      "Triple\n",
      "Triple\n",
      "Triple\n",
      "Triple\n",
      "Triple\n",
      "Triple\n",
      "Triple\n",
      "Triple\n",
      "Triple\n",
      "Triple\n",
      "Triple\n",
      "Triple\n",
      "Triple\n",
      "Triple\n",
      "Triple\n",
      "Triple\n",
      "Triple\n",
      "Triple\n",
      "Triple\n",
      "Triple\n",
      "Triple\n",
      "Triple\n",
      "Triple\n",
      "Triple\n",
      "Triple\n",
      "Triple\n",
      "Triple\n",
      "Triple\n",
      "Triple\n",
      "Triple\n",
      "Triple\n",
      "Triple\n",
      "Triple\n",
      "Triple\n",
      "Triple\n",
      "Triple\n",
      "Triple\n",
      "Triple\n",
      "Triple\n",
      "Triple\n",
      "Triple\n",
      "Triple\n",
      "Triple\n",
      "Triple\n",
      "Triple\n",
      "Triple\n",
      "Triple\n",
      "Triple\n",
      "Triple\n",
      "Triple\n",
      "Triple\n",
      "Triple\n",
      "Triple\n",
      "Triple\n",
      "Triple\n",
      "Triple\n",
      "Triple\n",
      "Triple\n",
      "Triple\n",
      "Triple\n",
      "Triple\n",
      "Triple\n",
      "Triple\n",
      "Triple\n",
      "Triple\n",
      "Triple\n",
      "Triple\n",
      "Triple\n",
      "Triple\n",
      "Triple\n",
      "Triple\n",
      "Triple\n",
      "Triple\n",
      "Triple\n",
      "Triple\n",
      "Triple\n",
      "Triple\n",
      "Triple\n",
      "Triple\n",
      "Triple\n",
      "Triple\n",
      "Triple\n",
      "Triple\n",
      "Triple\n",
      "Triple\n",
      "Triple\n",
      "Triple\n",
      "Triple\n",
      "Triple\n",
      "Triple\n",
      "Triple\n",
      "Triple\n",
      "Triple\n",
      "Triple\n",
      "Triple\n",
      "Triple\n",
      "Triple\n",
      "Triple\n",
      "Triple\n",
      "Triple\n",
      "Triple\n",
      "Triple\n",
      "Triple\n"
     ]
    }
   ],
   "source": [
    "\n",
    "Double = 0\n",
    "Triple = 0\n",
    "Trash = 0\n",
    "Count = 0\n",
    "Others = 0\n",
    "image_no = 1\n",
    "mf = 3.90534192    # Magnification factor in the test file document\n",
    "A = []\n",
    "from PIL import Image  \n",
    "import PIL \n",
    "for file in os.listdir(r'E:\\TEST results\\Test (2)\\Others'):\n",
    "    \n",
    "    image = Image.open(r'E:\\TEST results\\Test (2)\\Others/'+file)\n",
    "    #A= image\n",
    "    image = np.array(image).reshape(-1,48,48,3)\n",
    "    image = image/255.0\n",
    "  \n",
    "    classes = model.predict_classes(image)\n",
    "    #print(predictions)x\n",
    "    if classes == 0:\n",
    "        #name = r'E:\\TEST results\\Test (1)\\Single' + str(image_no) + '.jpg'\n",
    "        #path = r\"E:\\TEST results\\Test (1)\\Single\"\n",
    "        #print(type(A))\n",
    "        #A.save(r'E:\\TEST results\\Test (1)\\Single\\singles'+ str(image_no) + '.jpg','JPEG')\n",
    "        image_no += 1\n",
    "        Double += 1\n",
    "        print(\"Double\")\n",
    "    elif classes == 1:\n",
    "        #name = r'E:\\verification results\\results (1)\\Others\\image' + str(image_no) + '.jpg'\n",
    "        #cv.imwrite(name, image)\n",
    "        #A.save(r'E:\\TEST results\\Test (1)\\Others\\Others'+ str(image_no) + '.jpg','JPEG')\n",
    "        image_no += 1\n",
    "        Triple += 1\n",
    "        print(\"Triple\")\n",
    "    elif classes == 2:\n",
    "        #name = r'E:\\verification results\\results (1)\\Others\\image' + str(image_no) + '.jpg'\n",
    "        #cv.imwrite(name, image)\n",
    "        #A.save(r'E:\\TEST results\\Test (1)\\Others\\Others'+ str(image_no) + '.jpg','JPEG')\n",
    "        image_no += 1\n",
    "        Trash += 1\n",
    "        print(\"Trash\")\n",
    "    elif classes == 3:\n",
    "        #name = r'E:\\verification results\\results (1)\\Others\\image' + str(image_no) + '.jpg'\n",
    "        #cv.imwrite(name, image)\n",
    "        #A.save(r'E:\\TEST results\\Test (1)\\Others\\Others'+ str(image_no) + '.jpg','JPEG')\n",
    "        image_no += 1\n",
    "        Trash += 1\n",
    "        print(\"Double\")\n",
    "        "
   ]
  },
  {
   "cell_type": "code",
   "execution_count": 40,
   "metadata": {},
   "outputs": [
    {
     "name": "stdout",
     "output_type": "stream",
     "text": [
      "0 386 1\n"
     ]
    }
   ],
   "source": [
    "print(Double,Triple,Trash)"
   ]
  },
  {
   "cell_type": "code",
   "execution_count": 38,
   "metadata": {},
   "outputs": [],
   "source": [
    "model.save('may_fifth.h5')"
   ]
  },
  {
   "cell_type": "code",
   "execution_count": 39,
   "metadata": {},
   "outputs": [],
   "source": [
    "model.save('25_april.h5')"
   ]
  },
  {
   "cell_type": "code",
   "execution_count": 39,
   "metadata": {
    "scrolled": true
   },
   "outputs": [
    {
     "ename": "NameError",
     "evalue": "name 'class_names' is not defined",
     "output_type": "error",
     "traceback": [
      "\u001b[1;31m---------------------------------------------------------------------------\u001b[0m",
      "\u001b[1;31mNameError\u001b[0m                                 Traceback (most recent call last)",
      "\u001b[1;32m<ipython-input-39-53112c0ccf21>\u001b[0m in \u001b[0;36m<module>\u001b[1;34m\u001b[0m\n\u001b[1;32m----> 1\u001b[1;33m plot_confusion_matrix(cnf_matrix, classes=class_names, normalize=True,\n\u001b[0m\u001b[0;32m      2\u001b[0m                       title='Normalized confusion matrix')\n",
      "\u001b[1;31mNameError\u001b[0m: name 'class_names' is not defined"
     ]
    }
   ],
   "source": [
    "plot_confusion_matrix(cnf_matrix, classes=class_names, normalize=True,\n",
    "                      title='Normalized confusion matrix')"
   ]
  },
  {
   "cell_type": "code",
   "execution_count": null,
   "metadata": {},
   "outputs": [],
   "source": [
    "sns.heatmap(matrix/np.sum(matrix), annot=True, \n",
    "            fmt='.1%', cmap='Blues')"
   ]
  },
  {
   "cell_type": "code",
   "execution_count": null,
   "metadata": {},
   "outputs": [],
   "source": [
    "sns.heatmap(matrix, cbar=False)"
   ]
  },
  {
   "cell_type": "code",
   "execution_count": null,
   "metadata": {},
   "outputs": [],
   "source": [
    "import matplotlib.pyplot as plt\n",
    "import numpy\n",
    "from numpy import ravel, reshape, swapaxes\n",
    "import scipy.io\n",
    "from sklearn import svm\n",
    "from sklearn.metrics import confusion_matrix\n",
    "from random import sample"
   ]
  },
  {
   "cell_type": "code",
   "execution_count": null,
   "metadata": {},
   "outputs": [],
   "source": []
  },
  {
   "cell_type": "code",
   "execution_count": null,
   "metadata": {},
   "outputs": [],
   "source": []
  },
  {
   "cell_type": "code",
   "execution_count": null,
   "metadata": {},
   "outputs": [],
   "source": []
  }
 ],
 "metadata": {
  "kernelspec": {
   "display_name": "Python 3",
   "language": "python",
   "name": "python3"
  },
  "language_info": {
   "codemirror_mode": {
    "name": "ipython",
    "version": 3
   },
   "file_extension": ".py",
   "mimetype": "text/x-python",
   "name": "python",
   "nbconvert_exporter": "python",
   "pygments_lexer": "ipython3",
   "version": "3.6.10"
  }
 },
 "nbformat": 4,
 "nbformat_minor": 4
}
